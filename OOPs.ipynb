{
 "cells": [
  {
   "cell_type": "markdown",
   "id": "6c5e2fa2",
   "metadata": {},
   "source": [
    "# Object Oriented Programming with Python"
   ]
  },
  {
   "cell_type": "markdown",
   "id": "78b7e11d",
   "metadata": {},
   "source": [
    "https://www.scaler.com/topics/oops-concepts-in-python/\n",
    "Object-oriented Programming (OOPs) is a programming paradigm that uses objects and classes in programming.\n",
    "\n",
    "Object oriented programming maps our code instructions with the real world problems, making it easier to write and simpler to understand. They map real-world entities(such as company and employee) as 'software objects' that have some 'data' associated with them and can perform some 'functions'.\n",
    "\n",
    "OOPS in programming stands for Object Oriented Programming System. It is a programming paradigm or methodology, to design a program using classes and objects OOPS treats every entity as an object.\n",
    "\n",
    "\n",
    "\n",
    "### Some Major Benefits of OOPS Include:\n",
    "- They reduce the redundancy of the code by writing clear and re-usable codes (using inheritance).\n",
    "- They are easier to visualize because they completely relate to real-world scenarios. For example, the concept of objects, inheritance, abstractions, relate very closely to real-world scenarios(we will discuss them further in this article).\n",
    "- Every object in oops represent a different part of the code and have their own logic and data to communicate with each other. So, there are no complications in the code.\n",
    "\n"
   ]
  },
  {
   "cell_type": "markdown",
   "id": "bd001744",
   "metadata": {},
   "source": [
    "### Class \n",
    "A class is a collection of objects. A class contains the blueprints or the prototype from which the objects are being created. It is a logical entity that contains some attributes and methods. \n",
    "\n",
    "- Classes are created by keyword class.\n",
    "- Attributes are the variables that belong to a class.\n",
    "- Attributes are always public and can be accessed using the dot (.) operator. Eg.: Myclass.Myattribute\n",
    "\n",
    "### Class Definition Syntax:\n",
    "\n",
    "class ClassName:\n",
    "   Statement-1\n",
    "   \n",
    "      .\n",
    "      \n",
    "      .\n",
    "      \n",
    "      .\n",
    "      \n",
    "   Statement-N\n",
    "   \n",
    "-------------------------------\n",
    "\n",
    "\n",
    "class Human:\n",
    "\n",
    "    pass"
   ]
  },
  {
   "cell_type": "markdown",
   "id": "5c88894a",
   "metadata": {},
   "source": [
    "### Objects\n",
    "The object is an entity that has a state and behavior associated with it. \n",
    "\n",
    "Example:\n",
    "\n",
    "An object consists of :\n",
    "\n",
    "- State: It is represented by the attributes of an object. It also reflects the properties of an object.\n",
    "- Behavior: It is represented by the methods of an object. It also reflects the response of an object to other objects.\n",
    "- Identity: It gives a unique name to an object and enables one object to interact with other objects.\n",
    "\n",
    "Examples:\n",
    "- The identity can be considered as the name of the dog.\n",
    "- State or Attributes can be considered as the breed, age, or color of the dog.\n",
    "- The behavior can be considered as to whether the dog is eating or sleeping.\n",
    "\n",
    "\n",
    "Syntax: \n",
    "obj = Human()"
   ]
  },
  {
   "cell_type": "markdown",
   "id": "28094c21",
   "metadata": {},
   "source": [
    "### The self  \n",
    "1. Class methods must have an extra first parameter in the method definition. We do not give a value for this parameter when we call the method, Python provides it\n",
    "2. If we have a method that takes no arguments, then we still have to have one argument."
   ]
  },
  {
   "cell_type": "markdown",
   "id": "b484e2e1",
   "metadata": {},
   "source": [
    "### The __init__ method \n",
    "\n",
    " It is run as soon as an object of a class is instantiated. The method is useful to do any initialization of the object. \n"
   ]
  },
  {
   "cell_type": "code",
   "execution_count": 9,
   "id": "72852e91",
   "metadata": {},
   "outputs": [],
   "source": [
    "class Human:\n",
    "    def __init__(self, name1, age1, gender1):\n",
    "        self.name = name1\n",
    "        self.age = age1\n",
    "        self.gender = gender1"
   ]
  },
  {
   "cell_type": "code",
   "execution_count": 7,
   "id": "cf2428e6",
   "metadata": {},
   "outputs": [
    {
     "data": {
      "text/html": [
       "<img src=\"https://scaler.com/topics/images/Class-and-Objects-in-Python.webp\" width=\"500\" height=\"500\"/>"
      ],
      "text/plain": [
       "<IPython.core.display.Image object>"
      ]
     },
     "execution_count": 7,
     "metadata": {},
     "output_type": "execute_result"
    }
   ],
   "source": [
    "from IPython.display import Image\n",
    "Image(url= \"https://scaler.com/topics/images/Class-and-Objects-in-Python.webp\", width=500, height=500)"
   ]
  },
  {
   "cell_type": "markdown",
   "id": "5bcfa663",
   "metadata": {},
   "source": [
    "### Class Attribute:\n",
    "These are the variables that are same for all instances of the class. They do not have new values for each new instance created. They are defined just below the class definition."
   ]
  },
  {
   "cell_type": "code",
   "execution_count": 10,
   "id": "a55ce369",
   "metadata": {},
   "outputs": [],
   "source": [
    "class Human:\n",
    "    #class attribute\n",
    "    species = \"Homo Sapiens\""
   ]
  },
  {
   "cell_type": "markdown",
   "id": "8b44bf9d",
   "metadata": {},
   "source": [
    "### Instance Attribute:\n",
    "Instance attributes are the variables which are defined inside of any function in class. Instance attribute have different values for every instance of the class. These values depends upon the value we pass while creating the instance."
   ]
  },
  {
   "cell_type": "code",
   "execution_count": 11,
   "id": "89a58f5a",
   "metadata": {},
   "outputs": [],
   "source": [
    "class Human:\n",
    "    #class attribute\n",
    "    species = \"Homo Sapiens\"\n",
    "    def __init__(self, name, age, gender):\n",
    "        self.name = name\n",
    "        self.age = age\n",
    "        self.gender = gender"
   ]
  },
  {
   "cell_type": "markdown",
   "id": "25394385",
   "metadata": {},
   "source": [
    "### Creating an Object in Class\n",
    "When we create a new object from a class, it is called instantiating an object. An object can be instantiated by the class name followed by the parantheses. We can assign the object of a class to any variable.\n",
    "\n"
   ]
  },
  {
   "cell_type": "code",
   "execution_count": 12,
   "id": "15f324b0",
   "metadata": {},
   "outputs": [],
   "source": [
    "class Human:\n",
    "    #class attribute\n",
    "    species = \"Homo Sapiens\"\n",
    "    def __init__(self, name, age, gender):\n",
    "        self.name = name\n",
    "        self.age = age\n",
    "        self.gender = gender\n",
    "        \n",
    "x = Human(\"Ron\", 15, \"Male\") \n",
    "y = Human(\"Miley\", 22, \"Female\")"
   ]
  },
  {
   "cell_type": "markdown",
   "id": "13455ef9",
   "metadata": {},
   "source": [
    "### Accessing values of the instances"
   ]
  },
  {
   "cell_type": "code",
   "execution_count": 13,
   "id": "a249a049",
   "metadata": {},
   "outputs": [
    {
     "name": "stdout",
     "output_type": "stream",
     "text": [
      "Ron\n",
      "Miley\n"
     ]
    }
   ],
   "source": [
    "class Human:\n",
    "    #class attribute\n",
    "    species = \"Homo Sapiens\"\n",
    "    def __init__(self, name, age, gender):\n",
    "        self.name = name\n",
    "        self.age = age\n",
    "        self.gender = gender\n",
    "        \n",
    "x = Human(\"Ron\", 15, \"Male\") \n",
    "y = Human(\"Miley\", 22, \"Female\")\n",
    "print(x.name)\n",
    "print(y.name)"
   ]
  },
  {
   "cell_type": "code",
   "execution_count": 14,
   "id": "c66b5b01",
   "metadata": {},
   "outputs": [
    {
     "name": "stdout",
     "output_type": "stream",
     "text": [
      "Homo Sapiens\n",
      "Homo Sapiens\n",
      "Hi! My name is Ron. I am a male, and I am 15 years old\n",
      "Hi! My name is Miley. I am a female, and I am 22 years old\n"
     ]
    }
   ],
   "source": [
    "class Human:\n",
    "    species = \"Homo Sapiens\"\n",
    "\n",
    "    def __init__(self, name, age, gender):\n",
    "        self.name = name\n",
    "        self.age = age\n",
    "        self.gender = gender\n",
    "\n",
    "\n",
    "# x and y are instances of class Human\n",
    "x = Human(\"Ron\", 15, \"male\")\n",
    "y = Human(\"Miley\", 22, \"female\")\n",
    "\n",
    "print(x.species)  # species are class attributes, hence will have same value for all instances\n",
    "print(y.species)\n",
    "\n",
    "# name, gender and age will have different values per instance, because they are instance attributes\n",
    "print(f\"Hi! My name is {x.name}. I am a {x.gender}, and I am {x.age} years old\")\n",
    "print(f\"Hi! My name is {y.name}. I am a {y.gender}, and I am {y.age} years old\")\n"
   ]
  },
  {
   "cell_type": "markdown",
   "id": "2814cc48",
   "metadata": {},
   "source": [
    "Note that, **class attributes** values same **\"Homo Sapiens\"**, but the **instance attributes values are different** as per the value we passed while creating our object."
   ]
  },
  {
   "cell_type": "markdown",
   "id": "b8e553de",
   "metadata": {},
   "source": [
    "### Changing the value of class attributes, by assigning classname.classAttribute with any new value."
   ]
  },
  {
   "cell_type": "code",
   "execution_count": 15,
   "id": "66c3f84d",
   "metadata": {},
   "outputs": [
    {
     "name": "stdout",
     "output_type": "stream",
     "text": [
      "Sapiens\n"
     ]
    }
   ],
   "source": [
    "class Human:\n",
    "    #class attribute\n",
    "    species = \"Homo Sapiens\"\n",
    "    def __init__(self, name, age, gender):\n",
    "        self.name = name\n",
    "        self.age = age\n",
    "        self.gender = gender\n",
    "\n",
    "Human.species = \"Sapiens\"\n",
    "obj = Human(\"Brek\",11,\"male\")\n",
    "print(obj.species)"
   ]
  },
  {
   "cell_type": "markdown",
   "id": "4c62f59a",
   "metadata": {},
   "source": [
    "### Instance Methods\n",
    "An instance method is a function defined within a class that can be called only from instances of that class. Like init(), an instance method's first parameter is always self."
   ]
  },
  {
   "cell_type": "code",
   "execution_count": 18,
   "id": "dd2e5c3f",
   "metadata": {},
   "outputs": [
    {
     "name": "stdout",
     "output_type": "stream",
     "text": [
      "Hello everyone! I am Ciri\n",
      "I love to eat momos!!!\n"
     ]
    }
   ],
   "source": [
    "class Human:\n",
    "    #class attribute\n",
    "    species = \"Homo Sapiens\"\n",
    "    def __init__(self, name, age, gender):\n",
    "        self.name = name\n",
    "        self.age = age\n",
    "        self.gender = gender\n",
    "        \n",
    "    #Instance Method\n",
    "    def speak(self):\n",
    "        return f\"Hello everyone! I am {self.name}\"\n",
    "    \n",
    "    #Instance Method\n",
    "    def eat(self, favouriteDish):\n",
    "        return f\"I love to eat {favouriteDish}!!!\"\n",
    "\n",
    "x = Human(\"Ciri\",18,\"female\")\n",
    "print(x.speak())\n",
    "print(x.eat(\"momos\"))"
   ]
  },
  {
   "cell_type": "markdown",
   "id": "605c87db",
   "metadata": {},
   "source": [
    "This Human class has two instance methods:\n",
    "\n",
    "- speak(): It returns a string displaying the name of the Human.\n",
    "- eat(): It has one parameter \"favouriteDish\" and returns a string displaying the favourite dish of the Human."
   ]
  },
  {
   "cell_type": "markdown",
   "id": "aa0dda06",
   "metadata": {},
   "source": [
    "## Fundamentals of OOPS in Python\n",
    "There are four fundamental concepts of Object-oriented programming –\n",
    "\n",
    "- Inheritance\n",
    "- Encapsulation\n",
    "- Polymorphism\n",
    "- Data abstraction"
   ]
  },
  {
   "cell_type": "markdown",
   "id": "c52c39dc",
   "metadata": {},
   "source": [
    "### Inheritance\n",
    "Inheritance is the process by which a class can inherit or derive the properties(or data) and methods(or functions) of another class. Simply, the process of inheriting the properties of parent class into a child class is known as inheritance.\n",
    "\n",
    "The class whose properties are inherited is the Parent class, and the class that inherits the properties from the Parent class is the Child class."
   ]
  },
  {
   "cell_type": "markdown",
   "id": "4feb9d47",
   "metadata": {},
   "source": [
    "**class parent_class:**\n",
    "\n",
    "    #body of parent class\n",
    "\n",
    "**class child_class(parent_class):** # inherits the parent class\n",
    "\n",
    "    #body of child class"
   ]
  },
  {
   "cell_type": "code",
   "execution_count": 24,
   "id": "9564293d",
   "metadata": {},
   "outputs": [
    {
     "name": "stdout",
     "output_type": "stream",
     "text": [
      "Hey! My name is John, I'm a male and I'm 15 years old\n",
      "I study in Sunshine Model School\n"
     ]
    }
   ],
   "source": [
    "class Human:     #parent class\n",
    "    def __init__(self, name, age, gender):\n",
    "        self.name = name\n",
    "        self.age = age\n",
    "        self.gender = gender\n",
    "\n",
    "    def description(self):\n",
    "        print(f\"Hey! My name is {self.name}, I'm a {self.gender} and I'm {self.age} years old\")\n",
    "\n",
    "class Boy(Human):    #child class\n",
    "    def schoolName(self, schoolname):\n",
    "        print(f\"I study in {schoolname}\")\n",
    "\n",
    "\n",
    "b = Boy('John', 15, 'male')\n",
    "b.description()\n",
    "b.schoolName(\"Sunshine Model School\")"
   ]
  },
  {
   "cell_type": "markdown",
   "id": "867ed904",
   "metadata": {},
   "source": [
    "In the above example, the child class Boy is inheriting the parent class Human. So, when we create an object of the Boy class, we can access all the methods and properties of it's parent class, Human, because it is inheriting it.\n",
    "\n",
    "Also, we have defined a method in the Boy class, which is schoolName . The method schoolName cannot be accessed by the parent class object. But, we can obviously call schoolName method by creating the child class object(Boy)."
   ]
  },
  {
   "cell_type": "markdown",
   "id": "c9266890",
   "metadata": {},
   "source": [
    "**An issue while trying to call child class's methods using parent class's object**\n",
    "\n",
    "The child classes can access the data and properties of parent class but vice versa is not possible."
   ]
  },
  {
   "cell_type": "code",
   "execution_count": 25,
   "id": "ddb5881b",
   "metadata": {},
   "outputs": [
    {
     "name": "stdout",
     "output_type": "stream",
     "text": [
      "Hey! My name is Lily, I'm a girl and I'm 20 years old\n"
     ]
    },
    {
     "ename": "AttributeError",
     "evalue": "'Human' object has no attribute 'schoolName'",
     "output_type": "error",
     "traceback": [
      "\u001b[1;31m---------------------------------------------------------------------------\u001b[0m",
      "\u001b[1;31mAttributeError\u001b[0m                            Traceback (most recent call last)",
      "Input \u001b[1;32mIn [25]\u001b[0m, in \u001b[0;36m<cell line: 16>\u001b[1;34m()\u001b[0m\n\u001b[0;32m     14\u001b[0m h \u001b[38;5;241m=\u001b[39m Human(\u001b[38;5;124m'\u001b[39m\u001b[38;5;124mLily\u001b[39m\u001b[38;5;124m'\u001b[39m,\u001b[38;5;241m20\u001b[39m,\u001b[38;5;124m'\u001b[39m\u001b[38;5;124mgirl\u001b[39m\u001b[38;5;124m'\u001b[39m) \u001b[38;5;66;03m# h is the object of the parent class - Human\u001b[39;00m\n\u001b[0;32m     15\u001b[0m h\u001b[38;5;241m.\u001b[39mdescription()\n\u001b[1;32m---> 16\u001b[0m \u001b[43mh\u001b[49m\u001b[38;5;241;43m.\u001b[39;49m\u001b[43mschoolName\u001b[49m(\u001b[38;5;124m'\u001b[39m\u001b[38;5;124mABC Academy\u001b[39m\u001b[38;5;124m'\u001b[39m)\n",
      "\u001b[1;31mAttributeError\u001b[0m: 'Human' object has no attribute 'schoolName'"
     ]
    }
   ],
   "source": [
    "class Human:\n",
    "    def __init__(self,name,age,gender):\n",
    "        self.name = name\n",
    "        self.age = age\n",
    "        self.gender = gender\n",
    "    def description(self):\n",
    "        print(f\"Hey! My name is {self.name}, I'm a {self.gender} and I'm {self.age} years old\")\n",
    "        \n",
    "class Girl(Human):\n",
    "    def schoolName(self,schoolName):\n",
    "        print(\"I study in {schoolName}\")\n",
    "\n",
    "\n",
    "h = Human('Lily',20,'girl') # h is the object of the parent class - Human\n",
    "h.description()\n",
    "h.schoolName('ABC Academy') #cannot access child class's method using parent class's object"
   ]
  },
  {
   "cell_type": "markdown",
   "id": "b68420f8",
   "metadata": {},
   "source": [
    "### Super()\n",
    "The super() function in python is a inheritance-related function that refers to the parent class. We can use it to find the method with a particular name in an object’s superclass.\n",
    "\n",
    "Syntax: We write the super() keyword followed by the method name we want to refer from our parent class."
   ]
  },
  {
   "cell_type": "code",
   "execution_count": 26,
   "id": "22fd3d86",
   "metadata": {},
   "outputs": [
    {
     "name": "stdout",
     "output_type": "stream",
     "text": [
      "Hey! My name is Lily, I'm a girl and I'm 20 years old\n",
      "I can dance\n"
     ]
    }
   ],
   "source": [
    "class Human:\n",
    "    def __init__(self,name,age,gender):\n",
    "        self.name = name\n",
    "        self.age = age\n",
    "        self.gender = gender\n",
    "    def description(self):\n",
    "        print(f\"Hey! My name is {self.name}, I'm a {self.gender} and I'm {self.age} years old\")\n",
    "    \n",
    "    def dance(self):\n",
    "        print(\"I can dance\")\n",
    "        \n",
    "class Girl(Human):\n",
    "    def dance(self):\n",
    "        print(\"I can do classic dance\")\n",
    "    def activity(self):\n",
    "        super().dance()\n",
    "g = Girl('Lily', 20, 'girl')\n",
    "g.description()\n",
    "g.activity()"
   ]
  },
  {
   "cell_type": "markdown",
   "id": "6dec0e7f",
   "metadata": {},
   "source": [
    "Here, we have defined the dance() method in Human and Girl classes. But, both the methods have different implementations as you can see. In Human class, the dance method says \"I can dance\", whereas in Girl class, the dance method says \"I can do classical dance\". So, let us call the parent class's dance method from the child class.\n",
    "\n",
    "We are calling the dance method using super().dance(). This will call the dance method from the Human class. So, it prints \"I can dance\". Although, there was already an implementation for dance() in Girl(at line 15).\n",
    "\n",
    "When we call any method using super(), the method in the superclass will be called even if there is a method with the same name in the subclass."
   ]
  },
  {
   "cell_type": "markdown",
   "id": "d16d7531",
   "metadata": {},
   "source": [
    "### Polymorphism\n",
    "Suppose, you are scrolling through your Instagram feeds on your phone. You suddenly felt like listening to some music as well, so you opened Spotify and started playing your favorite song. Then, after a while, you got a call, so you paused all the background activities you were doing, to answer it. It was your friend's call, asking you to text the phone number of some person. So, you messaged him the number, and resumed your activities.\n",
    "\n",
    "Did you notice one thing? You could scroll through feeds, listen to music, attend/make phone calls, message -- everything just with a single device - your Mobile Phone!\n",
    "\n",
    "\n",
    "#### IMP\n",
    "**Polymorphism** is something similar to that. 'Poly' means multiple and 'morph' means forms. So, polymorphism altogether means something that have multiple forms. Or, 'some thing' that can have multiple behaviours depending upon the situation.\n",
    "\n",
    "Polymorphism in OOPS refers to the functions having the same names but carrying different functionalities. Or, having the same function name, but different function signature(parameters passed to the function).\n",
    "\n",
    "A child class inherits all properties from it's parent class methods. But sometimes, it wants to add it's own implementation to the methods."
   ]
  },
  {
   "cell_type": "code",
   "execution_count": 27,
   "id": "c9acb4a7",
   "metadata": {},
   "outputs": [
    {
     "name": "stdout",
     "output_type": "stream",
     "text": [
      "5\n",
      "4\n",
      "3\n"
     ]
    }
   ],
   "source": [
    "# inbuilt polymorphic functions\n",
    "print(len('deepa'))\n",
    "print(len([1,2,5,9]))\n",
    "print(len({'1':'apple','2':'cherry','3':'banana'}))"
   ]
  },
  {
   "cell_type": "markdown",
   "id": "13737c27",
   "metadata": {},
   "source": [
    "### Polymorphism with Class Methods"
   ]
  },
  {
   "cell_type": "code",
   "execution_count": 28,
   "id": "6c26e50b",
   "metadata": {},
   "outputs": [
    {
     "name": "stdout",
     "output_type": "stream",
     "text": [
      "The monkey is yellow coloured!\n",
      "The monkey eats bananas!\n",
      "The rabbit is white coloured!\n",
      "The rabbit eats carrots!\n"
     ]
    }
   ],
   "source": [
    "class Monkey:\n",
    "    def color(self):\n",
    "        print(\"The monkey is yellow coloured!\")\n",
    "\n",
    "    def eats(self):\n",
    "        print(\"The monkey eats bananas!\")\n",
    "\n",
    "\n",
    "class Rabbit:\n",
    "    def color(self):\n",
    "        print(\"The rabbit is white coloured!\")\n",
    "\n",
    "    def eats(self):\n",
    "        print(\"The rabbit eats carrots!\")\n",
    "\n",
    "\n",
    "mon = Monkey()\n",
    "rab = Rabbit()\n",
    "for animal in (mon, rab):\n",
    "    animal.color()\n",
    "    animal.eats()\n"
   ]
  },
  {
   "cell_type": "markdown",
   "id": "9703d955",
   "metadata": {},
   "source": [
    "### Polymorphism with Inheritance\n",
    "\n",
    "It is possible to modify a method in a child class that it has inherited from the parent class, adding it's own implementation to the method. This process of re-implementing a method in the child class is known as Method Overriding"
   ]
  },
  {
   "cell_type": "code",
   "execution_count": 30,
   "id": "99a2529b",
   "metadata": {},
   "outputs": [
    {
     "name": "stdout",
     "output_type": "stream",
     "text": [
      "I have 4 sides. I am from Square class\n",
      "I have 3 sides. I am from Triangle class\n"
     ]
    }
   ],
   "source": [
    "class Shape:\n",
    "    def no_of_sides(self):\n",
    "        pass\n",
    "\n",
    "    def two_dimensional(self):\n",
    "        print(\"I am a 2D object. I am from shape class\")\n",
    "\n",
    "\n",
    "class Square(Shape):\n",
    "    \n",
    "    def no_of_sides(self):\n",
    "        print(\"I have 4 sides. I am from Square class\")\n",
    "\n",
    "class Triangle(Shape):\n",
    "    \n",
    "    def no_of_sides(self):\n",
    "        print(\"I have 3 sides. I am from Triangle class\")\n",
    "        \n",
    "# Create an object of Square class\n",
    "sq = Square()\n",
    "# Override the no_of_sides of parent class\n",
    "sq.no_of_sides()\n",
    "\n",
    "# Create an object of triangle class\n",
    "tr = Triangle()\n",
    "# Override the no_of_sides of parent class\n",
    "tr.no_of_sides()"
   ]
  },
  {
   "cell_type": "code",
   "execution_count": 4,
   "id": "a87e9ccd",
   "metadata": {},
   "outputs": [
    {
     "ename": "AttributeError",
     "evalue": "'Human' object has no attribute 'name'",
     "output_type": "error",
     "traceback": [
      "\u001b[1;31m---------------------------------------------------------------------------\u001b[0m",
      "\u001b[1;31mAttributeError\u001b[0m                            Traceback (most recent call last)",
      "Input \u001b[1;32mIn [4]\u001b[0m, in \u001b[0;36m<cell line: 7>\u001b[1;34m()\u001b[0m\n\u001b[0;32m      5\u001b[0m         \u001b[38;5;28mself\u001b[39m\u001b[38;5;241m.\u001b[39mgender \u001b[38;5;241m=\u001b[39m gender\n\u001b[0;32m      6\u001b[0m obj \u001b[38;5;241m=\u001b[39m Human(\u001b[38;5;124m\"\u001b[39m\u001b[38;5;124maaa\u001b[39m\u001b[38;5;124m\"\u001b[39m,\u001b[38;5;241m10\u001b[39m,\u001b[38;5;124m\"\u001b[39m\u001b[38;5;124mF\u001b[39m\u001b[38;5;124m\"\u001b[39m)\n\u001b[1;32m----> 7\u001b[0m \u001b[38;5;28mprint\u001b[39m(\u001b[43mobj\u001b[49m\u001b[38;5;241;43m.\u001b[39;49m\u001b[43mname\u001b[49m)\n",
      "\u001b[1;31mAttributeError\u001b[0m: 'Human' object has no attribute 'name'"
     ]
    }
   ],
   "source": [
    "class Human:\n",
    "    def __init__(self,name,age,gender):\n",
    "        self.__name = name\n",
    "        self.age = age\n",
    "        self.gender = gender\n",
    "obj = Human(\"aaa\",10,\"F\")\n",
    "print(obj.name)"
   ]
  },
  {
   "cell_type": "markdown",
   "id": "1144d365",
   "metadata": {},
   "source": [
    "the method no_of_sides has different implementations with respect to different shapes. So, it is in line with Polymorphism."
   ]
  },
  {
   "cell_type": "markdown",
   "id": "a815ee5a",
   "metadata": {},
   "source": [
    "### Encapsulation\n",
    "The process of binding data and corresponding methods (behavior) together into a single unit is called encapsulation in Python.\n",
    "\n",
    "Encapsulation is a programming technique that binds the class members (variables and methods) together and prevents them from being accessed by other classes. It is one of the concept of OOPS in Python.\n",
    "\n",
    "Encalpsulation is a way to ensure security. It hides the data from the access of outsiders. An organization can protect its object/information against unwanted access by clients or any unauthorized person by encapsulating it."
   ]
  },
  {
   "cell_type": "markdown",
   "id": "c3fb6677",
   "metadata": {},
   "source": [
    "#### Getters and setters\n",
    "\n",
    "If anyone wants some data, they can only get it by calling the **getter method**. And, if they want to set some vlaue to the data, they must use the **setter method** for that, otherwise they won't be able to do the same."
   ]
  },
  {
   "cell_type": "code",
   "execution_count": 31,
   "id": "fa602fbf",
   "metadata": {},
   "outputs": [
    {
     "name": "stdout",
     "output_type": "stream",
     "text": [
      "The name of book is The Witchers\n",
      "The name of book is The Witchers Returns\n"
     ]
    }
   ],
   "source": [
    "class Library:\n",
    "    def __init__(self, id, name):\n",
    "        self.bookId = id\n",
    "        self.bookName = name\n",
    "        \n",
    "    def setBookName(self, newBookName): #setters method to set the book name\n",
    "        self.bookName = newBookName\n",
    "        \n",
    "    def getBookName(self): #getters method to get the book name\n",
    "        print(f\"The name of book is {self.bookName}\")\n",
    "\n",
    "        \n",
    "book = Library(101,\"The Witchers\")\n",
    "book.getBookName()\n",
    "book.setBookName(\"The Witchers Returns\")\n",
    "book.getBookName()"
   ]
  },
  {
   "cell_type": "markdown",
   "id": "1db1c2c0",
   "metadata": {},
   "source": [
    "we can only get and set the book names upon calling the methods, otherwise, we cannot directly get or modify any value. This promotes high security to our data, because others are not aware at a deep level how the following methods are implemented(if their access are restricted)."
   ]
  },
  {
   "cell_type": "markdown",
   "id": "84642504",
   "metadata": {},
   "source": [
    "### Access Modifiers\n",
    "Access modifiers limit access to the variables and methods of a class. Python provides three types of access modifiers private, public, and protected.\n",
    "\n",
    "\n",
    "- Public Member: Accessible anywhere from outside the class.\n",
    " \n",
    "- Private Member: Accessible only within the class.\n",
    "Double underscore __ represents Private class. \n",
    "\n",
    "- Protected Member: Accessible within the class and it's sub-classes. \n",
    "Single underscore _ represents Protected class. "
   ]
  },
  {
   "cell_type": "code",
   "execution_count": 2,
   "id": "dbc53089",
   "metadata": {},
   "outputs": [
    {
     "name": "stdout",
     "output_type": "stream",
     "text": [
      "The Employee's name is John Gates\n",
      "The Employee's ID is 110514\n"
     ]
    },
    {
     "ename": "AttributeError",
     "evalue": "'Employee' object has no attribute '__salary'",
     "output_type": "error",
     "traceback": [
      "\u001b[1;31m---------------------------------------------------------------------------\u001b[0m",
      "\u001b[1;31mAttributeError\u001b[0m                            Traceback (most recent call last)",
      "Input \u001b[1;32mIn [2]\u001b[0m, in \u001b[0;36m<cell line: 14>\u001b[1;34m()\u001b[0m\n\u001b[0;32m     12\u001b[0m \u001b[38;5;28mprint\u001b[39m(\u001b[38;5;124mf\u001b[39m\u001b[38;5;124m\"\u001b[39m\u001b[38;5;124mThe Employee\u001b[39m\u001b[38;5;124m'\u001b[39m\u001b[38;5;124ms name is \u001b[39m\u001b[38;5;132;01m{\u001b[39;00memployee1\u001b[38;5;241m.\u001b[39mname\u001b[38;5;132;01m}\u001b[39;00m\u001b[38;5;124m\"\u001b[39m)\n\u001b[0;32m     13\u001b[0m \u001b[38;5;28mprint\u001b[39m(\u001b[38;5;124mf\u001b[39m\u001b[38;5;124m\"\u001b[39m\u001b[38;5;124mThe Employee\u001b[39m\u001b[38;5;124m'\u001b[39m\u001b[38;5;124ms ID is \u001b[39m\u001b[38;5;132;01m{\u001b[39;00memployee1\u001b[38;5;241m.\u001b[39m_empID\u001b[38;5;132;01m}\u001b[39;00m\u001b[38;5;124m\"\u001b[39m)\n\u001b[1;32m---> 14\u001b[0m \u001b[38;5;28mprint\u001b[39m(\u001b[38;5;124mf\u001b[39m\u001b[38;5;124m\"\u001b[39m\u001b[38;5;124mThe Employee\u001b[39m\u001b[38;5;124m'\u001b[39m\u001b[38;5;124ms salary is \u001b[39m\u001b[38;5;132;01m{\u001b[39;00memployee1\u001b[38;5;241m.\u001b[39m__salary\u001b[38;5;132;01m}\u001b[39;00m\u001b[38;5;124m\"\u001b[39m)\n",
      "\u001b[1;31mAttributeError\u001b[0m: 'Employee' object has no attribute '__salary'"
     ]
    }
   ],
   "source": [
    "class Employee:\n",
    "    def __init__(self, name, employeeId, salary):\n",
    "        self.name = name    #making employee name public\n",
    "        self._empID = employeeId  #making employee ID protected\n",
    "        self.__salary = salary  #making salary private\n",
    "\n",
    "    def getSalary(self):\n",
    "        print(f\"The salary of Employee is {self.__salary}\")\n",
    "\n",
    "employee1 = Employee(\"John Gates\", 110514, \"$1500\")\n",
    "\n",
    "print(f\"The Employee's name is {employee1.name}\")\n",
    "print(f\"The Employee's ID is {employee1._empID}\")\n",
    "print(f\"The Employee's salary is {employee1.__salary}\") #will throw an error because salary is defined as private\n",
    "\n",
    "# Solution\n",
    "#employee1.getSalary() #will be able to access the employee's salary now using the getter method"
   ]
  },
  {
   "cell_type": "markdown",
   "id": "c0060f9c",
   "metadata": {},
   "source": [
    "### Abstraction\n",
    "\n",
    "\n",
    "The main goal of Abstraction is to hide background details or any unnecessary implementation about the data so that users only see the required information. It helps in handling the complexity of the codes.\n",
    "\n",
    "\n",
    "#### Key Points of Abstract classes\n",
    "- Abstraction is used for hiding the background details or any unnecessary implementation about the data, so that users only see the required information.\n",
    "- In Python, abstraction can be achieved by using **abstract classes**\n",
    "- A class that consists of **one or more abstract methods is called the \"abstract class\"**.\n",
    "- Abstract methods do not contain any implementation of their own.\n",
    "- Abstract class can be inherited by any subclass. The subclasses that inherits the abstract classes provides the implementations for their abstract methods .\n",
    "- Abstract classes can act like blueprint to other classes, which are useful when we are designing large functions. And the subclass which inherits them can refer the abstract methods for implementing the features.\n",
    "- Python provides the **abc module** to use the abstraction\n",
    "- To use abstraction, it is mandatory for us to **import ABC class from the abc module**."
   ]
  },
  {
   "cell_type": "code",
   "execution_count": 38,
   "id": "8755d18d",
   "metadata": {},
   "outputs": [],
   "source": [
    "# ABC stands for Abstract Base class.\n",
    "from abc import ABC  \n",
    "\n",
    "class ClassName(ABC):\n",
    "    pass"
   ]
  },
  {
   "cell_type": "code",
   "execution_count": 39,
   "id": "e0470504",
   "metadata": {},
   "outputs": [
    {
     "name": "stdout",
     "output_type": "stream",
     "text": [
      "Bike have 2 wheels\n",
      "Tempo have 3 wheels\n",
      "Truck have 4 wheels\n"
     ]
    }
   ],
   "source": [
    "from abc import ABC\n",
    "\n",
    "class Vehicle(ABC):  # inherits abstract class\n",
    "    #abstract method\n",
    "    def no_of_wheels(self):\n",
    "        pass\n",
    "\n",
    "class Bike(Vehicle):\n",
    "    def no_of_wheels(self): # provide definition for abstract method\n",
    "        print(\"Bike have 2 wheels\")  \n",
    "\n",
    "class Tempo(Vehicle):\n",
    "    def no_of_wheels(self):  # provide definition for abstract method\n",
    "        print(\"Tempo have 3 wheels\")\n",
    "\n",
    "class Truck(Vehicle):  # provide definition for abstract method\n",
    "    def no_of_wheels(self):\n",
    "        print(\"Truck have 4 wheels\")\n",
    "\n",
    "\n",
    "bike = Bike()\n",
    "bike.no_of_wheels()\n",
    "tempo = Tempo()\n",
    "tempo.no_of_wheels()\n",
    "truck = Truck()\n",
    "truck.no_of_wheels()\n"
   ]
  },
  {
   "cell_type": "markdown",
   "id": "d0bf8609",
   "metadata": {},
   "source": [
    "#### Some notable points on Abstract classes are:\n",
    "- we cannot create objects for the abstract classes.\n",
    "- An Abstract class can contain the both types of methods -- normal and abstract method. In the abstract methods, we do not provide any definition or code. But in the normal methods, we provide the implementation of the code needed for the method."
   ]
  }
 ],
 "metadata": {
  "kernelspec": {
   "display_name": "Python 3 (ipykernel)",
   "language": "python",
   "name": "python3"
  },
  "language_info": {
   "codemirror_mode": {
    "name": "ipython",
    "version": 3
   },
   "file_extension": ".py",
   "mimetype": "text/x-python",
   "name": "python",
   "nbconvert_exporter": "python",
   "pygments_lexer": "ipython3",
   "version": "3.9.13"
  }
 },
 "nbformat": 4,
 "nbformat_minor": 5
}
